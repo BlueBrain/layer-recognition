{
 "cells": [
  {
   "cell_type": "code",
   "execution_count": 1,
   "metadata": {},
   "outputs": [],
   "source": [
    "import pandas as pd\n",
    "import numpy as np\n",
    "import glob\n",
    "import re\n"
   ]
  },
  {
   "cell_type": "code",
   "execution_count": 2,
   "metadata": {},
   "outputs": [],
   "source": [
    "columns_name=['Project_ID', 'Image_Name', 'Distance_to_midline',\n",
    "       'Analyze', 'Exclude', 'Comment', 'hemisphere(L/R)',\n",
    "       'Qupath_project_path', 'dataframe_path', 'ML_type(GT/FP)']"
   ]
  },
  {
   "cell_type": "code",
   "execution_count": 3,
   "metadata": {},
   "outputs": [],
   "source": [
    "main_df = pd.read_csv('/gpfs/bbp.cscs.ch/project/proj53/LayerBoundariesProject/Production/20231102/datasets/Exported_Features/Dataframes/metadata.csv')"
   ]
  },
  {
   "cell_type": "code",
   "execution_count": 4,
   "metadata": {},
   "outputs": [],
   "source": [
    "def get_qupath_project_by_image_name(_dataframe, image_name : str) ->str:\n",
    "    return list(_dataframe[_dataframe['Image_Name'].str.contains(image_name)]['Project_ID'])"
   ]
  },
  {
   "cell_type": "code",
   "execution_count": 5,
   "metadata": {},
   "outputs": [
    {
     "data": {
      "text/plain": [
       "['ProjectQuPath_1443460_RH_Nissl_4']"
      ]
     },
     "execution_count": 5,
     "metadata": {},
     "output_type": "execute_result"
    }
   ],
   "source": [
    "get_qupath_project_by_image_name(main_df, 'SLD_0000560.vsi-20x_01')"
   ]
  },
  {
   "cell_type": "code",
   "execution_count": 6,
   "metadata": {},
   "outputs": [],
   "source": [
    "def get_dataframe_path_form_project_id(image_ids,\n",
    "                                       for_pred_path='/gpfs/bbp.cscs.ch/project/proj53/LayerBoundariesProject/Production/20231102/datasets/Exported_Features/Dataframes/For_prediction/01122024',\n",
    "                                       gt_path = '/gpfs/bbp.cscs.ch/project/proj53/LayerBoundariesProject/Production/20231102/datasets/Exported_Features/Dataframes/Ground_Truth/'):\n",
    "    \n",
    "    dataframe_pathes = []\n",
    "    ml_types = []\n",
    "    for image_id in image_ids:\n",
    "        pattern = for_pred_path + '/Feature*' + image_id + '*'\n",
    "        result =  glob.glob(pattern)\n",
    "        if len(result) == 1:\n",
    "            dataframe_pathes.append(result[0])\n",
    "            ml_types.append('FP')\n",
    "        else:\n",
    "            pattern = gt_path + '/Feature*' + image_id + '*'\n",
    "            result = glob.glob(pattern)\n",
    "            if len(result) == 1:\n",
    "                dataframe_pathes.append(result[0])\n",
    "                ml_types.append('GT')\n",
    "            else:\n",
    "                dataframe_pathes.append(None)\n",
    "                ml_types.append(None)\n",
    "    return dataframe_pathes, ml_types"
   ]
  },
  {
   "cell_type": "code",
   "execution_count": 7,
   "metadata": {},
   "outputs": [],
   "source": [
    "def get_hemisphere_from_projet_id(project_id):\n",
    "    if 'RH' in project_id:\n",
    "        return 'right'\n",
    "    elif 'LH' in project_id:\n",
    "        return  'left'\n",
    "    elif 'GroundTruth' in project_id:\n",
    "        return 'N/A'\n",
    "    else:\n",
    "        raise ValueError"
   ]
  },
  {
   "cell_type": "code",
   "execution_count": 8,
   "metadata": {},
   "outputs": [],
   "source": [
    "def project_id_from_path(path):\n",
    "    last_slash_pos = path.rfind('/')+1\n",
    "    qpproj_pos = path.find('qpproj')\n",
    "    return path[last_slash_pos:qpproj_pos-1]\n",
    "    "
   ]
  },
  {
   "cell_type": "code",
   "execution_count": 9,
   "metadata": {},
   "outputs": [],
   "source": [
    "# S1HL\n",
    "\n",
    "#meta_root_pattern = '/gpfs/bbp.cscs.ch/project/proj53/LayerBoundariesProject/Analysis/Nissl_*/*/*_Metadata_information.csv'\n",
    "#meta_list = glob.glob(meta_root_pattern, recursive=True)\n",
    "#meta_list.append('/gpfs/bbp.cscs.ch/project/proj53/LayerBoundariesProject/LBR_Algorithm/Cellpose/QuPath_LayerBoundaries_GroundTruth_20231222/QuPath_LayerBoundaries_GroundTruth_20231222.qpproj_Metadata_information.csv')"
   ]
  },
  {
   "cell_type": "code",
   "execution_count": 12,
   "metadata": {},
   "outputs": [
    {
     "name": "stdout",
     "output_type": "stream",
     "text": [
      "['/gpfs/bbp.cscs.ch/project/proj53/LayerBoundariesProject/Analysis/Nissl_4/ProjectQuPath_1443459_RH_Nissl_4_MPtA/ProjectQuPath_1443459_RH_Nissl_4_WithMPtA.qpproj_Metadata_information.csv', '/gpfs/bbp.cscs.ch/project/proj53/LayerBoundariesProject/Analysis/Nissl_6/ProjectQuPath_1449922_RH_Nissl_6_MPtA/ProjectQuPath_1449922_RH_Nissl_6_WithMPtA.qpproj_Metadata_information.csv']\n"
     ]
    }
   ],
   "source": [
    "# MPtA\n",
    "\n",
    "meta_root_pattern = '/gpfs/bbp.cscs.ch/project/proj53/LayerBoundariesProject/Analysis/Nissl_*/*_MPtA/*_Metadata_information.csv'\n",
    "meta_list = glob.glob(meta_root_pattern, recursive=True)\n",
    "print(meta_list)\n",
    "#meta_list.append('/gpfs/bbp.cscs.ch/project/proj53/LayerBoundariesProject/LBR_Algorithm/Cellpose/QuPath_LayerBoundaries_GroundTruth_20231222/QuPath_LayerBoundaries_GroundTruth_20231222.qpproj_Metadata_information.csv')"
   ]
  },
  {
   "cell_type": "code",
   "execution_count": 10,
   "metadata": {},
   "outputs": [
    {
     "name": "stdout",
     "output_type": "stream",
     "text": [
      "meta_file_path /gpfs/bbp.cscs.ch/project/proj53/LayerBoundariesProject/Analysis/Nissl_4/ProjectQuPath_1443459_RH_Nissl_4_MPtA/ProjectQuPath_1443459_RH_Nissl_4_WithMPtA.qpproj_Metadata_information.csv \r",
      "meta_file_path /gpfs/bbp.cscs.ch/project/proj53/LayerBoundariesProject/Analysis/Nissl_6/ProjectQuPath_1449922_RH_Nissl_6_MPtA/ProjectQuPath_1449922_RH_Nissl_6_WithMPtA.qpproj_Metadata_information.csv \r\n",
      "Done\n"
     ]
    }
   ],
   "source": [
    "main_df = pd.DataFrame()\n",
    "\n",
    "\n",
    "for meta_file_path in meta_list:\n",
    "    project_pathes=[]\n",
    "    project_ids=[]\n",
    "    image_names = []\n",
    "    distances = []\n",
    "    analyses=[]\n",
    "    exludes=[]\n",
    "    comments=[]\n",
    "    hemispheres=[]\n",
    "    qupath_project_pathes=[]\n",
    "    ml_types=[]\n",
    "    print(f'meta_file_path {meta_file_path} \\r', end='')\n",
    "    project_path = meta_file_path[:-25]\n",
    "    project_id = project_id_from_path(meta_file_path)\n",
    "    project_meta_df = pd.read_csv(meta_file_path, index_col=0)\n",
    "    nb_images = len(project_meta_df)\n",
    "    \n",
    "    project_ids.extend([project_id] * nb_images)\n",
    "    image_names = list( project_meta_df['Image Name'])\n",
    "    distances = list( project_meta_df['Distance to midline'])\n",
    "    analyses= list( project_meta_df['Analyze'])\n",
    "    exludes= list( project_meta_df['Exclude'])\n",
    "    comments= list( project_meta_df['Comment'])\n",
    "    hemispheres.extend([get_hemisphere_from_projet_id(project_id)] * nb_images)\n",
    "    qupath_project_pathes.extend([project_path] * nb_images)\n",
    "    dataframe_path, ml_types = get_dataframe_path_form_project_id(image_names)\n",
    "    data = np.array([project_ids, image_names, distances, analyses, exludes,\n",
    "                  comments, hemispheres, qupath_project_pathes,\n",
    "                  dataframe_path, ml_types]).T\n",
    "\n",
    "    df = pd.DataFrame(data = data,\n",
    "                      columns=columns_name)\n",
    "\n",
    "    \n",
    "    main_df = pd.concat([main_df, df])\n",
    "    \n",
    "print('\\nDone')\n",
    "    \n",
    "main_df.to_csv('/gpfs/bbp.cscs.ch/project/proj53/LayerBoundariesProject/Production/20231102/datasets/Exported_Features/Dataframes/metadata_MPtA.csv')"
   ]
  },
  {
   "cell_type": "code",
   "execution_count": 36,
   "metadata": {},
   "outputs": [],
   "source": [
    "#metadata"
   ]
  },
  {
   "cell_type": "code",
   "execution_count": 10,
   "metadata": {},
   "outputs": [],
   "source": [
    "meta = pd.read_csv('/gpfs/bbp.cscs.ch/project/proj53/LayerBoundariesProject/Production/20231102/datasets/Exported_Features/Dataframes/metadata.csv')"
   ]
  },
  {
   "cell_type": "code",
   "execution_count": 11,
   "metadata": {},
   "outputs": [
    {
     "data": {
      "text/html": [
       "<div>\n",
       "<style scoped>\n",
       "    .dataframe tbody tr th:only-of-type {\n",
       "        vertical-align: middle;\n",
       "    }\n",
       "\n",
       "    .dataframe tbody tr th {\n",
       "        vertical-align: top;\n",
       "    }\n",
       "\n",
       "    .dataframe thead th {\n",
       "        text-align: right;\n",
       "    }\n",
       "</style>\n",
       "<table border=\"1\" class=\"dataframe\">\n",
       "  <thead>\n",
       "    <tr style=\"text-align: right;\">\n",
       "      <th></th>\n",
       "      <th>Unnamed: 0</th>\n",
       "      <th>Project_ID</th>\n",
       "      <th>Image_Name</th>\n",
       "      <th>Distance_to_midline</th>\n",
       "      <th>Analyze</th>\n",
       "      <th>Exclude</th>\n",
       "      <th>Comment</th>\n",
       "      <th>hemisphere(L/R)</th>\n",
       "      <th>Qupath_project_path</th>\n",
       "      <th>dataframe_path</th>\n",
       "      <th>ML_type(GT/FP)</th>\n",
       "    </tr>\n",
       "  </thead>\n",
       "  <tbody>\n",
       "    <tr>\n",
       "      <th>0</th>\n",
       "      <td>0</td>\n",
       "      <td>ProjectQuPath_01413827_RH_Nissl_1</td>\n",
       "      <td>SLD_0000386.vsi-20x_01</td>\n",
       "      <td>0</td>\n",
       "      <td>False</td>\n",
       "      <td>True</td>\n",
       "      <td>0</td>\n",
       "      <td>right</td>\n",
       "      <td>/gpfs/bbp.cscs.ch/project/proj53/LayerBoundari...</td>\n",
       "      <td>NaN</td>\n",
       "      <td>NaN</td>\n",
       "    </tr>\n",
       "    <tr>\n",
       "      <th>1</th>\n",
       "      <td>1</td>\n",
       "      <td>ProjectQuPath_01413827_RH_Nissl_1</td>\n",
       "      <td>SLD_0000386.vsi-20x_02</td>\n",
       "      <td>0</td>\n",
       "      <td>False</td>\n",
       "      <td>True</td>\n",
       "      <td>0</td>\n",
       "      <td>right</td>\n",
       "      <td>/gpfs/bbp.cscs.ch/project/proj53/LayerBoundari...</td>\n",
       "      <td>NaN</td>\n",
       "      <td>NaN</td>\n",
       "    </tr>\n",
       "    <tr>\n",
       "      <th>2</th>\n",
       "      <td>2</td>\n",
       "      <td>ProjectQuPath_01413827_RH_Nissl_1</td>\n",
       "      <td>SLD_0000386.vsi-20x_03</td>\n",
       "      <td>0</td>\n",
       "      <td>False</td>\n",
       "      <td>True</td>\n",
       "      <td>0</td>\n",
       "      <td>right</td>\n",
       "      <td>/gpfs/bbp.cscs.ch/project/proj53/LayerBoundari...</td>\n",
       "      <td>NaN</td>\n",
       "      <td>NaN</td>\n",
       "    </tr>\n",
       "    <tr>\n",
       "      <th>3</th>\n",
       "      <td>3</td>\n",
       "      <td>ProjectQuPath_01413827_RH_Nissl_1</td>\n",
       "      <td>SLD_0000386.vsi-20x_04</td>\n",
       "      <td>0</td>\n",
       "      <td>False</td>\n",
       "      <td>True</td>\n",
       "      <td>0</td>\n",
       "      <td>right</td>\n",
       "      <td>/gpfs/bbp.cscs.ch/project/proj53/LayerBoundari...</td>\n",
       "      <td>NaN</td>\n",
       "      <td>NaN</td>\n",
       "    </tr>\n",
       "    <tr>\n",
       "      <th>4</th>\n",
       "      <td>4</td>\n",
       "      <td>ProjectQuPath_01413827_RH_Nissl_1</td>\n",
       "      <td>SLD_0000386.vsi-20x_05</td>\n",
       "      <td>0</td>\n",
       "      <td>False</td>\n",
       "      <td>True</td>\n",
       "      <td>0</td>\n",
       "      <td>right</td>\n",
       "      <td>/gpfs/bbp.cscs.ch/project/proj53/LayerBoundari...</td>\n",
       "      <td>NaN</td>\n",
       "      <td>NaN</td>\n",
       "    </tr>\n",
       "    <tr>\n",
       "      <th>...</th>\n",
       "      <td>...</td>\n",
       "      <td>...</td>\n",
       "      <td>...</td>\n",
       "      <td>...</td>\n",
       "      <td>...</td>\n",
       "      <td>...</td>\n",
       "      <td>...</td>\n",
       "      <td>...</td>\n",
       "      <td>...</td>\n",
       "      <td>...</td>\n",
       "      <td>...</td>\n",
       "    </tr>\n",
       "    <tr>\n",
       "      <th>2213</th>\n",
       "      <td>33</td>\n",
       "      <td>QuPath_LayerBoundaries_GroundTruth_20231222</td>\n",
       "      <td>SLD_0000749.vsi-20x_05</td>\n",
       "      <td>2.90mm</td>\n",
       "      <td>NaN</td>\n",
       "      <td>False</td>\n",
       "      <td>0</td>\n",
       "      <td>NaN</td>\n",
       "      <td>/gpfs/bbp.cscs.ch/project/proj53/LayerBoundari...</td>\n",
       "      <td>/gpfs/bbp.cscs.ch/project/proj53/LayerBoundari...</td>\n",
       "      <td>GT</td>\n",
       "    </tr>\n",
       "    <tr>\n",
       "      <th>2214</th>\n",
       "      <td>34</td>\n",
       "      <td>QuPath_LayerBoundaries_GroundTruth_20231222</td>\n",
       "      <td>SLD_0000682.vsi-20x_03</td>\n",
       "      <td>3.05mm</td>\n",
       "      <td>NaN</td>\n",
       "      <td>False</td>\n",
       "      <td>0</td>\n",
       "      <td>NaN</td>\n",
       "      <td>/gpfs/bbp.cscs.ch/project/proj53/LayerBoundari...</td>\n",
       "      <td>/gpfs/bbp.cscs.ch/project/proj53/LayerBoundari...</td>\n",
       "      <td>GT</td>\n",
       "    </tr>\n",
       "    <tr>\n",
       "      <th>2215</th>\n",
       "      <td>35</td>\n",
       "      <td>QuPath_LayerBoundaries_GroundTruth_20231222</td>\n",
       "      <td>SLD_0000431.vsi-20x_03</td>\n",
       "      <td>around 2.90mm</td>\n",
       "      <td>NaN</td>\n",
       "      <td>False</td>\n",
       "      <td>0</td>\n",
       "      <td>NaN</td>\n",
       "      <td>/gpfs/bbp.cscs.ch/project/proj53/LayerBoundari...</td>\n",
       "      <td>/gpfs/bbp.cscs.ch/project/proj53/LayerBoundari...</td>\n",
       "      <td>GT</td>\n",
       "    </tr>\n",
       "    <tr>\n",
       "      <th>2216</th>\n",
       "      <td>36</td>\n",
       "      <td>QuPath_LayerBoundaries_GroundTruth_20231222</td>\n",
       "      <td>SLD_0000463.vsi-20x_01</td>\n",
       "      <td>around 2.40mm</td>\n",
       "      <td>NaN</td>\n",
       "      <td>False</td>\n",
       "      <td>NaN</td>\n",
       "      <td>NaN</td>\n",
       "      <td>/gpfs/bbp.cscs.ch/project/proj53/LayerBoundari...</td>\n",
       "      <td>/gpfs/bbp.cscs.ch/project/proj53/LayerBoundari...</td>\n",
       "      <td>GT</td>\n",
       "    </tr>\n",
       "    <tr>\n",
       "      <th>2217</th>\n",
       "      <td>37</td>\n",
       "      <td>QuPath_LayerBoundaries_GroundTruth_20231222</td>\n",
       "      <td>SLD_0000462.vsi-20x_04</td>\n",
       "      <td>around 2.10mm</td>\n",
       "      <td>NaN</td>\n",
       "      <td>False</td>\n",
       "      <td>NaN</td>\n",
       "      <td>NaN</td>\n",
       "      <td>/gpfs/bbp.cscs.ch/project/proj53/LayerBoundari...</td>\n",
       "      <td>/gpfs/bbp.cscs.ch/project/proj53/LayerBoundari...</td>\n",
       "      <td>GT</td>\n",
       "    </tr>\n",
       "  </tbody>\n",
       "</table>\n",
       "<p>2218 rows × 11 columns</p>\n",
       "</div>"
      ],
      "text/plain": [
       "      Unnamed: 0                                   Project_ID  \\\n",
       "0              0            ProjectQuPath_01413827_RH_Nissl_1   \n",
       "1              1            ProjectQuPath_01413827_RH_Nissl_1   \n",
       "2              2            ProjectQuPath_01413827_RH_Nissl_1   \n",
       "3              3            ProjectQuPath_01413827_RH_Nissl_1   \n",
       "4              4            ProjectQuPath_01413827_RH_Nissl_1   \n",
       "...          ...                                          ...   \n",
       "2213          33  QuPath_LayerBoundaries_GroundTruth_20231222   \n",
       "2214          34  QuPath_LayerBoundaries_GroundTruth_20231222   \n",
       "2215          35  QuPath_LayerBoundaries_GroundTruth_20231222   \n",
       "2216          36  QuPath_LayerBoundaries_GroundTruth_20231222   \n",
       "2217          37  QuPath_LayerBoundaries_GroundTruth_20231222   \n",
       "\n",
       "                  Image_Name Distance_to_midline Analyze Exclude Comment  \\\n",
       "0     SLD_0000386.vsi-20x_01                   0   False    True       0   \n",
       "1     SLD_0000386.vsi-20x_02                   0   False    True       0   \n",
       "2     SLD_0000386.vsi-20x_03                   0   False    True       0   \n",
       "3     SLD_0000386.vsi-20x_04                   0   False    True       0   \n",
       "4     SLD_0000386.vsi-20x_05                   0   False    True       0   \n",
       "...                      ...                 ...     ...     ...     ...   \n",
       "2213  SLD_0000749.vsi-20x_05              2.90mm     NaN   False       0   \n",
       "2214  SLD_0000682.vsi-20x_03              3.05mm     NaN   False       0   \n",
       "2215  SLD_0000431.vsi-20x_03       around 2.90mm     NaN   False       0   \n",
       "2216  SLD_0000463.vsi-20x_01       around 2.40mm     NaN   False     NaN   \n",
       "2217  SLD_0000462.vsi-20x_04       around 2.10mm     NaN   False     NaN   \n",
       "\n",
       "     hemisphere(L/R)                                Qupath_project_path  \\\n",
       "0              right  /gpfs/bbp.cscs.ch/project/proj53/LayerBoundari...   \n",
       "1              right  /gpfs/bbp.cscs.ch/project/proj53/LayerBoundari...   \n",
       "2              right  /gpfs/bbp.cscs.ch/project/proj53/LayerBoundari...   \n",
       "3              right  /gpfs/bbp.cscs.ch/project/proj53/LayerBoundari...   \n",
       "4              right  /gpfs/bbp.cscs.ch/project/proj53/LayerBoundari...   \n",
       "...              ...                                                ...   \n",
       "2213             NaN  /gpfs/bbp.cscs.ch/project/proj53/LayerBoundari...   \n",
       "2214             NaN  /gpfs/bbp.cscs.ch/project/proj53/LayerBoundari...   \n",
       "2215             NaN  /gpfs/bbp.cscs.ch/project/proj53/LayerBoundari...   \n",
       "2216             NaN  /gpfs/bbp.cscs.ch/project/proj53/LayerBoundari...   \n",
       "2217             NaN  /gpfs/bbp.cscs.ch/project/proj53/LayerBoundari...   \n",
       "\n",
       "                                         dataframe_path ML_type(GT/FP)  \n",
       "0                                                   NaN            NaN  \n",
       "1                                                   NaN            NaN  \n",
       "2                                                   NaN            NaN  \n",
       "3                                                   NaN            NaN  \n",
       "4                                                   NaN            NaN  \n",
       "...                                                 ...            ...  \n",
       "2213  /gpfs/bbp.cscs.ch/project/proj53/LayerBoundari...             GT  \n",
       "2214  /gpfs/bbp.cscs.ch/project/proj53/LayerBoundari...             GT  \n",
       "2215  /gpfs/bbp.cscs.ch/project/proj53/LayerBoundari...             GT  \n",
       "2216  /gpfs/bbp.cscs.ch/project/proj53/LayerBoundari...             GT  \n",
       "2217  /gpfs/bbp.cscs.ch/project/proj53/LayerBoundari...             GT  \n",
       "\n",
       "[2218 rows x 11 columns]"
      ]
     },
     "execution_count": 11,
     "metadata": {},
     "output_type": "execute_result"
    }
   ],
   "source": [
    "meta"
   ]
  },
  {
   "cell_type": "code",
   "execution_count": 36,
   "metadata": {},
   "outputs": [],
   "source": [
    "projets = np.unique(meta.Project_ID)"
   ]
  },
  {
   "cell_type": "code",
   "execution_count": 47,
   "metadata": {},
   "outputs": [
    {
     "name": "stdout",
     "output_type": "stream",
     "text": [
      "Projet ProjectQuPath_01413827_LH_Nissl_2 22\n",
      "Projet ProjectQuPath_01413827_RH_Nissl_1 9\n",
      "Projet ProjectQuPath_01413828_RH_Nissl_2 16\n",
      "Projet ProjectQuPath_01413829_RH_Nissl_2 23\n",
      "Projet ProjectQuPath_1413828_LH_Nissl_3 22\n",
      "Projet ProjectQuPath_1443459_LH_Nissl_5 0\n",
      "Projet ProjectQuPath_1443459_RH_Nissl_4 22\n",
      "Projet ProjectQuPath_1443460_LH_Nissl_5 17\n",
      "Projet ProjectQuPath_1443460_RH_Nissl_4 21\n",
      "Projet ProjectQuPath_1449920_LH_Nissl_6 26\n",
      "Projet ProjectQuPath_1449920_RH_Nissl_6 0\n",
      "Projet ProjectQuPath_1449920_RH_Nissl_6_EXCLUDE 0\n",
      "Projet ProjectQuPath_1449921_LH_Nissl_6 16\n",
      "Projet ProjectQuPath_1449921_RH_Nissl_6 24\n",
      "Projet ProjectQuPath_1449922_LH_Nissl_6 23\n",
      "Projet ProjectQuPath_1449922_RH_Nissl_6 22\n",
      "Projet QuPath_LayerBoundaries_GroundTruth_20231222 0\n",
      "Nb images: 263\n"
     ]
    },
    {
     "name": "stderr",
     "output_type": "stream",
     "text": [
      "/gpfs/bbp.cscs.ch/ssd/apps/tools/jupyter/venvs/python37/lib/python3.7/site-packages/ipykernel_launcher.py:8: UserWarning: Boolean Series key will be reindexed to match DataFrame index.\n",
      "  \n"
     ]
    }
   ],
   "source": [
    "total = 0\n",
    "\n",
    "for projet in projets:\n",
    "    \n",
    "    projet_df = meta[meta.Project_ID == projet]\n",
    "    analyse_flag = meta.Analyze == True\n",
    "    #print(analyse_flag)\n",
    "    nb_images = len(projet_df[analyse_flag])\n",
    "    total+=nb_images\n",
    "    print(f'Projet {projet} {nb_images}')\n",
    "print('Nb images:', total)\n",
    "    "
   ]
  },
  {
   "cell_type": "code",
   "execution_count": 67,
   "metadata": {},
   "outputs": [],
   "source": [
    "with open('/gpfs/bbp.cscs.ch/project/proj53/scratch/foo', 'r') as fp:\n",
    "    data = fp.read()\n",
    "    images = data.replace('Features_', '').replace('.csv', '').split(\"\\n\")\n",
    "image_in_gpfs = set(images)\n"
   ]
  },
  {
   "cell_type": "code",
   "execution_count": 66,
   "metadata": {},
   "outputs": [],
   "source": [
    "projet_df = meta[meta.Analyze == True]\n",
    "image_in_df = set(projet_df.Image_Name.to_list())"
   ]
  },
  {
   "cell_type": "code",
   "execution_count": 68,
   "metadata": {},
   "outputs": [
    {
     "data": {
      "text/plain": [
       "{''}"
      ]
     },
     "execution_count": 68,
     "metadata": {},
     "output_type": "execute_result"
    }
   ],
   "source": [
    "image_in_gpfs - image_in_df"
   ]
  },
  {
   "cell_type": "code",
   "execution_count": 69,
   "metadata": {},
   "outputs": [
    {
     "data": {
      "text/plain": [
       "{'SLD_0000402.vsi-20x_01'}"
      ]
     },
     "execution_count": 69,
     "metadata": {},
     "output_type": "execute_result"
    }
   ],
   "source": [
    "image_in_df - image_in_gpfs"
   ]
  },
  {
   "cell_type": "code",
   "execution_count": 70,
   "metadata": {},
   "outputs": [
    {
     "data": {
      "text/html": [
       "<div>\n",
       "<style scoped>\n",
       "    .dataframe tbody tr th:only-of-type {\n",
       "        vertical-align: middle;\n",
       "    }\n",
       "\n",
       "    .dataframe tbody tr th {\n",
       "        vertical-align: top;\n",
       "    }\n",
       "\n",
       "    .dataframe thead th {\n",
       "        text-align: right;\n",
       "    }\n",
       "</style>\n",
       "<table border=\"1\" class=\"dataframe\">\n",
       "  <thead>\n",
       "    <tr style=\"text-align: right;\">\n",
       "      <th></th>\n",
       "      <th>Unnamed: 0</th>\n",
       "      <th>Project_ID</th>\n",
       "      <th>Image_Name</th>\n",
       "      <th>Distance_to_midline</th>\n",
       "      <th>Analyze</th>\n",
       "      <th>Exclude</th>\n",
       "      <th>Comment</th>\n",
       "      <th>hemisphere(L/R)</th>\n",
       "      <th>Qupath_project_path</th>\n",
       "      <th>dataframe_path</th>\n",
       "      <th>ML_type(GT/FP)</th>\n",
       "    </tr>\n",
       "  </thead>\n",
       "  <tbody>\n",
       "    <tr>\n",
       "      <th>97</th>\n",
       "      <td>97</td>\n",
       "      <td>ProjectQuPath_01413827_RH_Nissl_1</td>\n",
       "      <td>SLD_0000402.vsi-20x_01</td>\n",
       "      <td>around 3.18-3.40mm</td>\n",
       "      <td>True</td>\n",
       "      <td>False</td>\n",
       "      <td>0</td>\n",
       "      <td>right</td>\n",
       "      <td>/gpfs/bbp.cscs.ch/project/proj53/LayerBoundari...</td>\n",
       "      <td>/gpfs/bbp.cscs.ch/project/proj53/LayerBoundari...</td>\n",
       "      <td>GT</td>\n",
       "    </tr>\n",
       "    <tr>\n",
       "      <th>2193</th>\n",
       "      <td>13</td>\n",
       "      <td>QuPath_LayerBoundaries_GroundTruth_20231222</td>\n",
       "      <td>SLD_0000402.vsi-20x_01</td>\n",
       "      <td>3.18-3.40mm</td>\n",
       "      <td>NaN</td>\n",
       "      <td>False</td>\n",
       "      <td>0</td>\n",
       "      <td>NaN</td>\n",
       "      <td>/gpfs/bbp.cscs.ch/project/proj53/LayerBoundari...</td>\n",
       "      <td>/gpfs/bbp.cscs.ch/project/proj53/LayerBoundari...</td>\n",
       "      <td>GT</td>\n",
       "    </tr>\n",
       "  </tbody>\n",
       "</table>\n",
       "</div>"
      ],
      "text/plain": [
       "      Unnamed: 0                                   Project_ID  \\\n",
       "97            97            ProjectQuPath_01413827_RH_Nissl_1   \n",
       "2193          13  QuPath_LayerBoundaries_GroundTruth_20231222   \n",
       "\n",
       "                  Image_Name Distance_to_midline Analyze Exclude Comment  \\\n",
       "97    SLD_0000402.vsi-20x_01  around 3.18-3.40mm    True   False       0   \n",
       "2193  SLD_0000402.vsi-20x_01         3.18-3.40mm     NaN   False       0   \n",
       "\n",
       "     hemisphere(L/R)                                Qupath_project_path  \\\n",
       "97             right  /gpfs/bbp.cscs.ch/project/proj53/LayerBoundari...   \n",
       "2193             NaN  /gpfs/bbp.cscs.ch/project/proj53/LayerBoundari...   \n",
       "\n",
       "                                         dataframe_path ML_type(GT/FP)  \n",
       "97    /gpfs/bbp.cscs.ch/project/proj53/LayerBoundari...             GT  \n",
       "2193  /gpfs/bbp.cscs.ch/project/proj53/LayerBoundari...             GT  "
      ]
     },
     "execution_count": 70,
     "metadata": {},
     "output_type": "execute_result"
    }
   ],
   "source": [
    "meta[meta.Image_Name == 'SLD_0000402.vsi-20x_01']"
   ]
  },
  {
   "cell_type": "code",
   "execution_count": 8,
   "metadata": {},
   "outputs": [
    {
     "data": {
      "text/plain": [
       "218"
      ]
     },
     "execution_count": 8,
     "metadata": {},
     "output_type": "execute_result"
    }
   ],
   "source": [
    "filelist = glob.glob('/gpfs/bbp.cscs.ch/project/proj53/CellDensitiesProject/Production/2024/Density/02022024/Per_percentage/*.csv')\n",
    "len(filelist)"
   ]
  },
  {
   "cell_type": "code",
   "execution_count": 39,
   "metadata": {},
   "outputs": [],
   "source": [
    "from collections import defaultdict\n",
    "counts = defaultdict(int)\n",
    "for file in filelist:\n",
    "\n",
    "    image_id = file.split('/')[-1][:-4]\n",
    "    project = get_qupath_project_by_image_name(main_df, image_id)[0]\n",
    "    counts[project]+=1\n",
    "    "
   ]
  },
  {
   "cell_type": "code",
   "execution_count": 40,
   "metadata": {},
   "outputs": [
    {
     "data": {
      "text/plain": [
       "defaultdict(int,\n",
       "            {'ProjectQuPath_1449922_LH_Nissl_6': 18,\n",
       "             'ProjectQuPath_1443460_RH_Nissl_4': 17,\n",
       "             'ProjectQuPath_1449921_LH_Nissl_6': 14,\n",
       "             'ProjectQuPath_1443459_RH_Nissl_4': 17,\n",
       "             'ProjectQuPath_1449922_RH_Nissl_6': 19,\n",
       "             'ProjectQuPath_01413827_RH_Nissl_1': 7,\n",
       "             'ProjectQuPath_1443460_LH_Nissl_5': 16,\n",
       "             'ProjectQuPath_01413828_RH_Nissl_2': 12,\n",
       "             'ProjectQuPath_1413828_LH_Nissl_3': 19,\n",
       "             'ProjectQuPath_1449921_RH_Nissl_6': 19,\n",
       "             'ProjectQuPath_01413827_LH_Nissl_2': 18,\n",
       "             'ProjectQuPath_01413829_RH_Nissl_2': 20,\n",
       "             'ProjectQuPath_1449920_LH_Nissl_6': 22})"
      ]
     },
     "execution_count": 40,
     "metadata": {},
     "output_type": "execute_result"
    }
   ],
   "source": [
    "counts"
   ]
  },
  {
   "cell_type": "code",
   "execution_count": 45,
   "metadata": {},
   "outputs": [],
   "source": [
    "indice = np.argsort(list(counts.keys()))"
   ]
  },
  {
   "cell_type": "code",
   "execution_count": 47,
   "metadata": {},
   "outputs": [
    {
     "ename": "TypeError",
     "evalue": "only integer scalar arrays can be converted to a scalar index",
     "output_type": "error",
     "traceback": [
      "\u001b[0;31m---------------------------------------------------------------------------\u001b[0m",
      "\u001b[0;31mTypeError\u001b[0m                                 Traceback (most recent call last)",
      "\u001b[0;32m<ipython-input-47-d376cc6d9099>\u001b[0m in \u001b[0;36m<module>\u001b[0;34m\u001b[0m\n\u001b[0;32m----> 1\u001b[0;31m \u001b[0mlist\u001b[0m\u001b[0;34m(\u001b[0m\u001b[0mcounts\u001b[0m\u001b[0;34m.\u001b[0m\u001b[0mvalues\u001b[0m\u001b[0;34m(\u001b[0m\u001b[0;34m)\u001b[0m\u001b[0;34m)\u001b[0m\u001b[0;34m[\u001b[0m\u001b[0mindice\u001b[0m\u001b[0;34m]\u001b[0m\u001b[0;34m\u001b[0m\u001b[0;34m\u001b[0m\u001b[0m\n\u001b[0m",
      "\u001b[0;31mTypeError\u001b[0m: only integer scalar arrays can be converted to a scalar index"
     ]
    }
   ],
   "source": [
    "list(counts.values())[indice]"
   ]
  },
  {
   "cell_type": "code",
   "execution_count": 59,
   "metadata": {},
   "outputs": [
    {
     "name": "stdout",
     "output_type": "stream",
     "text": [
      "ProjectQuPath_01413827_LH_Nissl_2 18\n",
      "ProjectQuPath_01413827_RH_Nissl_1 7\n",
      "ProjectQuPath_01413828_RH_Nissl_2 12\n",
      "ProjectQuPath_01413829_RH_Nissl_2 20\n",
      "ProjectQuPath_1413828_LH_Nissl_3 19\n",
      "ProjectQuPath_1443459_RH_Nissl_4 17\n",
      "ProjectQuPath_1443460_LH_Nissl_5 16\n",
      "ProjectQuPath_1443460_RH_Nissl_4 17\n",
      "ProjectQuPath_1449920_LH_Nissl_6 22\n",
      "ProjectQuPath_1449921_LH_Nissl_6 14\n",
      "ProjectQuPath_1449921_RH_Nissl_6 19\n",
      "ProjectQuPath_1449922_LH_Nissl_6 18\n",
      "ProjectQuPath_1449922_RH_Nissl_6 19\n"
     ]
    }
   ],
   "source": [
    "for index in indice:\n",
    "    print(np.array(list(counts.keys()))[index],np.array(list(counts.values()))[index] )"
   ]
  },
  {
   "cell_type": "code",
   "execution_count": null,
   "metadata": {},
   "outputs": [],
   "source": []
  }
 ],
 "metadata": {
  "kernelspec": {
   "display_name": "Python 3",
   "language": "python",
   "name": "python3"
  },
  "language_info": {
   "codemirror_mode": {
    "name": "ipython",
    "version": 3
   },
   "file_extension": ".py",
   "mimetype": "text/x-python",
   "name": "python",
   "nbconvert_exporter": "python",
   "pygments_lexer": "ipython3",
   "version": "3.7.4"
  }
 },
 "nbformat": 4,
 "nbformat_minor": 4
}
